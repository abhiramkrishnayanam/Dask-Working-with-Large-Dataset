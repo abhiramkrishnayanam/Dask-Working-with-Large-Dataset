{
 "cells": [
  {
   "cell_type": "markdown",
   "id": "48df9bb4-dbe7-461e-8eb9-389ab86a20f9",
   "metadata": {},
   "source": [
    "<h1 style=\"text-align: center; color: blue; font-weight: bold; font-size: 30px;\"> Working with large datasets using Dask </h1>"
   ]
  },
  {
   "cell_type": "markdown",
   "id": "b0801103-8326-4c3d-9d35-de6389e1a1df",
   "metadata": {},
   "source": [
    "Dask is a powerful Python library designed to work with large datasets that are too big to fit into memory. It scales familiar Python libraries like pandas, NumPy, and scikit-learn to handle larger-than-memory computations efficiently."
   ]
  },
  {
   "cell_type": "markdown",
   "id": "8b9ae846-e380-4e9d-a2e8-1b4daa67b6cd",
   "metadata": {},
   "source": [
    "#### Advantages : \n",
    "* Parallel Computing: Dask can execute operations in parallel across multiple cores or even across a cluster of machines.\n",
    "* Out-of-Core Processing: Works efficiently with data that exceeds the memory limit by breaking computations into smaller, manageable chunks.\n",
    "* Seamless Integration: Supports pandas, NumPy, scikit-learn, and other Python libraries, making it easy to scale existing workflows.\n",
    "* Lazy Evaluation: Optimizes computations by building a task graph and executing it only when results are needed."
   ]
  },
  {
   "cell_type": "code",
   "execution_count": 7,
   "id": "4542af31-d1fe-4cb6-a422-4f4f02d99268",
   "metadata": {},
   "outputs": [],
   "source": [
    "# pip install dask"
   ]
  },
  {
   "cell_type": "code",
   "execution_count": 17,
   "id": "b3050a65-bcb9-4ff0-afae-8c1da07d02f3",
   "metadata": {},
   "outputs": [],
   "source": [
    "import pandas as pd\n",
    "import numpy as np\n",
    "import dask.dataframe as dd"
   ]
  },
  {
   "cell_type": "code",
   "execution_count": 19,
   "id": "18acff0f-bfe0-495c-9e98-2c97cb1ca0ca",
   "metadata": {},
   "outputs": [],
   "source": [
    "# Load the dataset\n",
    "dask_df = dd.read_csv('sales_data.csv')"
   ]
  },
  {
   "cell_type": "markdown",
   "id": "025904d4-dfcd-497c-a597-17cc095bf908",
   "metadata": {},
   "source": [
    "<h1 style=\"text-align: center; color: blue; font-weight: bold; font-size: 20px;\"> Task 1: Inspect the dataset"
   ]
  },
  {
   "cell_type": "code",
   "execution_count": 25,
   "id": "07d38922-27a9-4ccc-8080-3fd38fe10ddf",
   "metadata": {},
   "outputs": [
    {
     "name": "stdout",
     "output_type": "stream",
     "text": [
      "   OrderID  CustomerID ProductID     Category  Quantity  Price        Date  \\\n",
      "0        1         101        P1  Electronics         2    500  2025-01-01   \n",
      "1        2         102        P2     Clothing         1     50  2025-01-02   \n",
      "2        3         103        P3    Furniture         1    700  2025-01-03   \n",
      "3        4         101        P1  Electronics         1    500  2025-01-04   \n",
      "4        5         104        P4     Clothing         3     40  2025-01-05   \n",
      "\n",
      "          City  \n",
      "0     New York  \n",
      "1  Los Angeles  \n",
      "2      Chicago  \n",
      "3     New York  \n",
      "4      Houston  \n",
      "OrderID                 int64\n",
      "CustomerID              int64\n",
      "ProductID     string[pyarrow]\n",
      "Category      string[pyarrow]\n",
      "Quantity                int64\n",
      "Price                   int64\n",
      "Date          string[pyarrow]\n",
      "City          string[pyarrow]\n",
      "dtype: object\n"
     ]
    }
   ],
   "source": [
    "print(dask_df.head())\n",
    "print(dask_df.dtypes)"
   ]
  },
  {
   "cell_type": "markdown",
   "id": "ceb8c649-ee75-492e-b2bb-fc010c0a531d",
   "metadata": {},
   "source": [
    "<h1 style=\"text-align: center; color: blue; font-weight: bold; font-size: 20px;\">Task 2: Filter rows where Category is \"Electronics\" and Quantity > 2"
   ]
  },
  {
   "cell_type": "code",
   "execution_count": 29,
   "id": "dadcd796-3640-4119-b89d-fc9836cac1b1",
   "metadata": {},
   "outputs": [
    {
     "name": "stdout",
     "output_type": "stream",
     "text": [
      "   OrderID  CustomerID ProductID     Category  Quantity  Price        Date  \\\n",
      "9       10         108        P8  Electronics         5    100  2025-01-10   \n",
      "\n",
      "          City  \n",
      "9  Los Angeles  \n"
     ]
    }
   ],
   "source": [
    "filtered_df = dask_df[(dask_df['Category'] == 'Electronics') & (dask_df['Quantity'] > 2)]\n",
    "print(filtered_df.head())\n"
   ]
  },
  {
   "cell_type": "markdown",
   "id": "9b196144-e8b8-42c0-9a4f-53f9c7c77de9",
   "metadata": {},
   "source": [
    "<h1 style=\"text-align: center; color: blue; font-weight: bold; font-size: 20px;\"> Task 3: Compute Total Sales and group by City"
   ]
  },
  {
   "cell_type": "code",
   "execution_count": 35,
   "id": "2a36dbdf-c6b9-41ca-8cc0-18280393b46c",
   "metadata": {},
   "outputs": [
    {
     "name": "stdout",
     "output_type": "stream",
     "text": [
      "City\n",
      "Boston            900\n",
      "Chicago          2300\n",
      "Houston           120\n",
      "Los Angeles       550\n",
      "New York         1700\n",
      "San Francisco     600\n",
      "Name: TotalSales, dtype: int64\n"
     ]
    }
   ],
   "source": [
    "dask_df['TotalSales']=dask_df['Quantity'] * dask_df['Price']\n",
    "total_sales_by_city = dask_df.groupby('City')['TotalSales'].sum().compute()\n",
    "print(total_sales_by_city)"
   ]
  },
  {
   "cell_type": "markdown",
   "id": "9a3dd606-8295-442b-8f79-8459b8b4e31b",
   "metadata": {},
   "source": [
    "<h1 style=\"text-align: center; color: blue; font-weight: bold; font-size: 20px;\">Task 4: Find the most popular category"
   ]
  },
  {
   "cell_type": "code",
   "execution_count": 37,
   "id": "c0537eec-e6b8-467d-b06c-cd4e5bea00e4",
   "metadata": {},
   "outputs": [
    {
     "name": "stdout",
     "output_type": "stream",
     "text": [
      "Most Popular Category: Electronics\n"
     ]
    }
   ],
   "source": [
    "total_quantity_by_category = dask_df.groupby('Category')['Quantity'].sum().compute()\n",
    "most_popular_category = total_quantity_by_category.idxmax()\n",
    "print(f\"Most Popular Category: {most_popular_category}\")"
   ]
  },
  {
   "cell_type": "markdown",
   "id": "9d7c727c-add0-452e-8ec8-026b623a3f6e",
   "metadata": {},
   "source": [
    "<h1 style=\"text-align: center; color: blue; font-weight: bold; font-size: 20px;\"> Task 5: Save the filtered data to a new CSV file"
   ]
  },
  {
   "cell_type": "code",
   "execution_count": 39,
   "id": "e008f7a5-d88d-4489-a80c-8458129f3172",
   "metadata": {},
   "outputs": [
    {
     "data": {
      "text/plain": [
       "['C:\\\\Users\\\\USER\\\\Old folder\\\\75 days of challenge\\\\filtered_electronics_sales.csv']"
      ]
     },
     "execution_count": 39,
     "metadata": {},
     "output_type": "execute_result"
    }
   ],
   "source": [
    "filtered_df.to_csv('filtered_electronics_sales.csv', single_file=True)"
   ]
  },
  {
   "cell_type": "markdown",
   "id": "35462e75-9e6d-42c1-843b-10f34cc4a4a0",
   "metadata": {},
   "source": [
    "<h1 style=\"text-align: center; color: blue; font-weight: bold; font-size: 20px;\">Task 6: Count Orders by Category"
   ]
  },
  {
   "cell_type": "code",
   "execution_count": 41,
   "id": "87dcffa2-5c7c-4e29-b96f-aea9f1d60104",
   "metadata": {},
   "outputs": [
    {
     "name": "stdout",
     "output_type": "stream",
     "text": [
      "Category\n",
      "Clothing       3\n",
      "Electronics    4\n",
      "Furniture      3\n",
      "Name: OrderID, dtype: int64\n"
     ]
    }
   ],
   "source": [
    "orders_by_category = dask_df.groupby('Category')['OrderID'].count()\n",
    "print(orders_by_category.compute())\n"
   ]
  },
  {
   "cell_type": "code",
   "execution_count": 51,
   "id": "9457b62c-2109-4993-b499-ec149c8d5f1a",
   "metadata": {},
   "outputs": [
    {
     "data": {
      "image/png": "[encoded data removed]",
      "text/plain": [
       "<Figure size 640x480 with 1 Axes>"
      ]
     },
     "metadata": {},
     "output_type": "display_data"
    }
   ],
   "source": [
    "#Orders by Category (Bar Chart)\n",
    "import matplotlib.pyplot as plt\n",
    "\n",
    "# Compute the result\n",
    "orders_by_category = dask_df.groupby('Category')['OrderID'].count().compute()\n",
    "\n",
    "# Plot\n",
    "orders_by_category.plot(kind='bar', color='skyblue')\n",
    "plt.title('Number of Orders by Category')\n",
    "plt.xlabel('Category')\n",
    "plt.ylabel('Number of Orders')\n",
    "plt.show()"
   ]
  },
  {
   "cell_type": "markdown",
   "id": "49d606a4-edf7-42af-8454-0010df308d00",
   "metadata": {},
   "source": [
    "<h1 style=\"text-align: center; color: blue; font-weight: bold; font-size: 20px;\">Task 7: Find the City with the Highest Total Sales"
   ]
  },
  {
   "cell_type": "code",
   "execution_count": 43,
   "id": "64f1f555-ea2a-4768-80fb-0a6a39f8cac1",
   "metadata": {},
   "outputs": [
    {
     "name": "stdout",
     "output_type": "stream",
     "text": [
      "City with the Highest Total Sales: Chicago\n"
     ]
    }
   ],
   "source": [
    "total_sales_by_city = dask_df.groupby('City')['TotalSales'].sum()\n",
    "highest_sales_city = total_sales_by_city.idxmax().compute()\n",
    "print(f\"City with the Highest Total Sales: {highest_sales_city}\")\n"
   ]
  },
  {
   "cell_type": "code",
   "execution_count": 53,
   "id": "e8bad255-f21a-4572-8515-ac85fef9b7bc",
   "metadata": {},
   "outputs": [
    {
     "data": {
      "image/png": "[encoded data removed]",
      "text/plain": [
       "<Figure size 640x480 with 1 Axes>"
      ]
     },
     "metadata": {},
     "output_type": "display_data"
    }
   ],
   "source": [
    "# Compute the result\n",
    "total_sales_by_city = dask_df.groupby('City')['TotalSales'].sum().compute()\n",
    "\n",
    "# Plot\n",
    "total_sales_by_city.plot(kind='bar', color='orange')\n",
    "plt.title('Total Sales by City')\n",
    "plt.xlabel('City')\n",
    "plt.ylabel('Total Sales')\n",
    "plt.xticks(rotation=45)\n",
    "plt.show()\n"
   ]
  },
  {
   "cell_type": "markdown",
   "id": "b5f3f22e-eadf-4c8e-986d-80c95712d22f",
   "metadata": {},
   "source": [
    "<h1 style=\"text-align: center; color: blue; font-weight: bold; font-size: 20px;\"> Task 8: Average Price per Product"
   ]
  },
  {
   "cell_type": "code",
   "execution_count": 45,
   "id": "753f53c9-e199-49c2-96cb-f5a30bad9872",
   "metadata": {},
   "outputs": [
    {
     "name": "stdout",
     "output_type": "stream",
     "text": [
      "ProductID\n",
      "P6    800.0\n",
      "P3    700.0\n",
      "P5    600.0\n",
      "P1    500.0\n",
      "P7    300.0\n",
      "Name: Price, dtype: float64\n"
     ]
    }
   ],
   "source": [
    "avg_price_per_product = dask_df.groupby('ProductID')['Price'].mean()\n",
    "top_5_products = avg_price_per_product.nlargest(5).compute()\n",
    "print(top_5_products)\n"
   ]
  },
  {
   "cell_type": "code",
   "execution_count": 55,
   "id": "52747a7c-7761-46d8-8009-85cb8f73ed39",
   "metadata": {},
   "outputs": [
    {
     "data": {
      "image/png": "[encoded data removed]",
      "text/plain": [
       "<Figure size 640x480 with 1 Axes>"
      ]
     },
     "metadata": {},
     "output_type": "display_data"
    }
   ],
   "source": [
    "# Compute the result\n",
    "avg_price_per_product = dask_df.groupby('ProductID')['Price'].mean().compute()\n",
    "\n",
    "# Plot\n",
    "avg_price_per_product.sort_values(ascending=False).plot(kind='barh', color='green')\n",
    "plt.title('Average Price per Product')\n",
    "plt.xlabel('Average Price')\n",
    "plt.ylabel('Product ID')\n",
    "plt.show()\n"
   ]
  },
  {
   "cell_type": "markdown",
   "id": "e6008f1b-31a8-4e88-bea6-453e2455d66a",
   "metadata": {},
   "source": [
    "<h1 style=\"text-align: center; color: blue; font-weight: bold; font-size: 20px;\"> Task 9: Identify Repeat Customers"
   ]
  },
  {
   "cell_type": "code",
   "execution_count": 47,
   "id": "17c78564-8541-4b2d-91b8-23c51caa491c",
   "metadata": {},
   "outputs": [
    {
     "name": "stdout",
     "output_type": "stream",
     "text": [
      "CustomerID\n",
      "101    3\n",
      "Name: OrderID, dtype: int64\n"
     ]
    }
   ],
   "source": [
    "customer_order_count = dask_df.groupby('CustomerID')['OrderID'].count()\n",
    "repeat_customers = customer_order_count[customer_order_count > 1].compute()\n",
    "print(repeat_customers)\n"
   ]
  },
  {
   "cell_type": "markdown",
   "id": "61ef450a-64a1-4523-a5f7-d0b908c5bb42",
   "metadata": {},
   "source": [
    "<h1 style=\"text-align: center; color: blue; font-weight: bold; font-size: 20px;\">Task 10: Monthly Sales Trend"
   ]
  },
  {
   "cell_type": "code",
   "execution_count": 49,
   "id": "d93e41d2-f2ca-4154-adb4-4ba6625ac534",
   "metadata": {},
   "outputs": [
    {
     "name": "stdout",
     "output_type": "stream",
     "text": [
      "Month\n",
      "1    6170\n",
      "Name: TotalSales, dtype: int64\n"
     ]
    }
   ],
   "source": [
    "dask_df['Month'] = dd.to_datetime(dask_df['Date']).dt.month\n",
    "monthly_sales = dask_df.groupby('Month')['TotalSales'].sum()\n",
    "print(monthly_sales.compute())\n"
   ]
  },
  {
   "cell_type": "code",
   "execution_count": null,
   "id": "430e44af-4f0f-4af9-805b-3424eb9f5eb1",
   "metadata": {},
   "outputs": [],
   "source": []
  }
 ],
 "metadata": {
  "kernelspec": {
   "display_name": "Python [conda env:base] *",
   "language": "python",
   "name": "conda-base-py"
  },
  "language_info": {
   "codemirror_mode": {
    "name": "ipython",
    "version": 3
   },
   "file_extension": ".py",
   "mimetype": "text/x-python",
   "name": "python",
   "nbconvert_exporter": "python",
   "pygments_lexer": "ipython3",
   "version": "3.12.7"
  }
 },
 "nbformat": 4,
 "nbformat_minor": 5
}
